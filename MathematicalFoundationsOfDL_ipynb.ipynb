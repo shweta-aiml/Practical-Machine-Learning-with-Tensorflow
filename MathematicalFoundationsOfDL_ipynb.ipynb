{
  "nbformat": 4,
  "nbformat_minor": 0,
  "metadata": {
    "colab": {
      "name": "MathematicalFoundationsOfDL.ipynb.ipynb",
      "provenance": [],
      "include_colab_link": true
    },
    "kernelspec": {
      "name": "python3",
      "display_name": "Python 3"
    }
  },
  "cells": [
    {
      "cell_type": "markdown",
      "metadata": {
        "id": "view-in-github",
        "colab_type": "text"
      },
      "source": [
        "<a href=\"https://colab.research.google.com/github/shweta-aiml/Practical-Machine-Learning-with-Tensorflow/blob/master/MathematicalFoundationsOfDL_ipynb.ipynb\" target=\"_parent\"><img src=\"https://colab.research.google.com/assets/colab-badge.svg\" alt=\"Open In Colab\"/></a>"
      ]
    },
    {
      "cell_type": "markdown",
      "metadata": {
        "id": "Jdq-yI1lYPQJ",
        "colab_type": "text"
      },
      "source": [
        "# Data Representation for Deep Learning\n",
        "\n",
        "The first neural network that we built for MNIST handwritten-digit recognition, we started from data stored in multidimensional arrays called **tensors**.  \n",
        "\n",
        "* Tensor is a container for data, where we store almost always numerical data. \n",
        "* Tensors are a generalization of matrices to an arbitrary number of dimensions. (a *dimension* is called an *axis* or *rank*.)\n",
        "\n",
        "A tensor is defined by three attributes:\n",
        "1. Number of axes or rank  (`ndim`)\n",
        "2. Shape (`shape`)\n",
        "3. Data type (`dtype`)\n",
        "\n",
        "We can obtain the number of tensor dimensions through `ndim` function on tensor, its shape can be obtained by `shape` function\n",
        "and the data type is obtained by `dtype` function.\n",
        "\n",
        "- Let's look at  different types of tensors. \n",
        "- For each tensor, we will print its **number of dimensions, shape** and **data type**.\n"
      ]
    },
    {
      "cell_type": "code",
      "metadata": {
        "id": "alWEDRWGYVv7",
        "colab_type": "code",
        "colab": {}
      },
      "source": [
        "import numpy as np"
      ],
      "execution_count": 0,
      "outputs": []
    }
  ]
}